{
 "cells": [
  {
   "cell_type": "code",
   "execution_count": 26,
   "metadata": {},
   "outputs": [],
   "source": [
    "#1) Crear la clase vehículo que contenga los atributos: Color, Si es moto, auto, camioneta ó camión, Cilindrada del motor\n",
    "\n",
    "class Vehiculo:\n",
    "    def __init__(self, color, tipo, cilindrada):\n",
    "        self.color = color\n",
    "        self.tipo = tipo\n",
    "        self.cilindrada = cilindrada\n",
    "    \n",
    "    "
   ]
  },
  {
   "cell_type": "code",
   "execution_count": 27,
   "metadata": {},
   "outputs": [],
   "source": [
    "a1 = Vehiculo(\"Amarillo\", \"moto\", 100)\n",
    "a2 = Vehiculo(\"Rojo\", \"auto\", 100)\n",
    "a3 = Vehiculo(\"Azul\", \"camioneta\", 100)\n",
    "a4 = Vehiculo(\"Verde\", \"camión\", 100)"
   ]
  },
  {
   "cell_type": "code",
   "execution_count": 30,
   "metadata": {},
   "outputs": [
    {
     "name": "stdout",
     "output_type": "stream",
     "text": [
      "moto 100\n",
      "camioneta\n",
      "Verde\n"
     ]
    }
   ],
   "source": [
    "print(a1.tipo, a1.cilindrada)\n",
    "print(a3.tipo)\n",
    "print(a4.color)"
   ]
  },
  {
   "cell_type": "code",
   "execution_count": 84,
   "metadata": {},
   "outputs": [],
   "source": [
    "#2) A la clase Vehiculo creada en el punto 1, agregar los siguientes métodos:Acelerar, Frenar,Doblar\n",
    "\n",
    "class Vehiculo:\n",
    "    def __init__(self, color, tipo, cilindrada):\n",
    "        self.color = color\n",
    "        self.tipo = tipo\n",
    "        self.cilindrada = cilindrada\n",
    "        self.velocidad = 0 #con esta variable se da un efecto más realista a los métodos acelerar, frenar se vuelve un contador de velocidad\n",
    "        \n",
    "    def acelerar(self,cantidad):\n",
    "        self.velocidad += cantidad\n",
    "        print(f'El vehículo esta acelerando {cantidad} km/h')\n",
    "        return self.velocidad #se adiciona el return para que no devuelva nada \"None\"\n",
    "\n",
    "    def frenar(self,cantidad):\n",
    "        self.velocidad -= cantidad\n",
    "        return print(f'El vehículo esta frenando {cantidad} km/h')\n",
    "        #se adiciona el return para que no devuelva nada \"None\"\n",
    "\n",
    "    def doblar(self, direccion):\n",
    "        self.direccion = direccion\n",
    "        return print(f'El vehículo esta doblando a la {direccion}.')\n",
    "        \n"
   ]
  },
  {
   "cell_type": "code",
   "execution_count": 85,
   "metadata": {},
   "outputs": [
    {
     "name": "stdout",
     "output_type": "stream",
     "text": [
      "El vehículo esta acelerando 50 km/h\n",
      "El vehículo esta frenando 20 km/h\n",
      "El vehículo esta doblando a la derecha.\n",
      "30\n"
     ]
    }
   ],
   "source": [
    "\"Ejemplos\"\n",
    "#crear un objeto de la clase vehiculo\n",
    "auto1 = Vehiculo(\"Rojo\", \"Deportivo\", 2000)\n",
    "#Acelerar el vehiculo\n",
    "auto1.acelerar(50)\n",
    "#Frenar el vehiculo\n",
    "auto1.frenar(20)\n",
    "#Doblar el vehiculo\n",
    "auto1.doblar(\"derecha\")\n",
    "print(auto1.velocidad)\n"
   ]
  },
  {
   "cell_type": "code",
   "execution_count": 65,
   "metadata": {},
   "outputs": [
    {
     "name": "stdout",
     "output_type": "stream",
     "text": [
      "El vehículo esta frenando 20 km/h\n",
      "10\n"
     ]
    }
   ],
   "source": [
    "auto1.frenar(20)\n",
    "print(auto1.velocidad)"
   ]
  },
  {
   "cell_type": "code",
   "execution_count": 66,
   "metadata": {},
   "outputs": [],
   "source": [
    "#3) Instanciar 3 objetos de la clase vehículo y ejecutar sus métodos, probar luego el resultado\n",
    "\n",
    "auto2 = Vehiculo(\"Rojo\", \"Auto\", 200)\n",
    "auto3 = Vehiculo(\"Verde\", \"Camioneta\", 100)\n",
    "auto4 = Vehiculo(\"Azul\", \"Moto\", 300)"
   ]
  },
  {
   "cell_type": "code",
   "execution_count": 67,
   "metadata": {},
   "outputs": [
    {
     "name": "stdout",
     "output_type": "stream",
     "text": [
      "Rojo\n",
      "Camioneta\n",
      "300\n",
      "El vehículo esta acelerando 10 km/h\n",
      "10\n",
      "El vehículo esta frenando 10 km/h\n",
      "-10\n"
     ]
    }
   ],
   "source": [
    "print(auto2.color)\n",
    "print(auto3.tipo)\n",
    "print(auto4.cilindrada)\n",
    "print(auto2.acelerar(10))\n",
    "print(auto3.frenar(10))"
   ]
  },
  {
   "cell_type": "code",
   "execution_count": 78,
   "metadata": {},
   "outputs": [],
   "source": [
    "#4 Agregar a la clase Vehiculo, un método que muestre su estado, es decir, a que velocidad se encuentra y su dirección.\n",
    "# Y otro método que muestre color, tipo y cilindrada\n",
    "\n",
    "#paso 1. creamos una clase llamada \"Vehiculo\"\n",
    "class Vehiculo:\n",
    "#paso 2. el método __init__ es el constructor de la clase Vehiculo, este se ejecuta cuando se crea una nueva instancia de la clase Vehiculo\n",
    "    def __init__(self, color, tipo, cilindrada): \n",
    "#Al crear un nuevo objeto de la clase se establecen los Atributos color, tipo, cilindrada, velocidad y dirección.\n",
    "        self.color = color\n",
    "        self.tipo = tipo\n",
    "        self.cilindrada = cilindrada\n",
    "        self.velocidad = 0\n",
    "        self.direccion = \"Recto\"\n",
    "\n",
    "    def acelerar(self,cantidad):\n",
    "    #Aumentar la velocidad en la cantidad indicada.\n",
    "        self.velocidad += cantidad\n",
    "        print(f'El vehículo está acelerando a un velicidad de {cantidad} km/h')\n",
    "        return self.velocidad\n",
    "\n",
    "    def frenar(self,cantidad):\n",
    "    #Disminuir la velocidad en la cantidad indicada.\n",
    "        self.velocidad -= cantidad\n",
    "        print(f'El vehículo está frenando a un velicidad de {cantidad} km/h')\n",
    "        return self.velocidad\n",
    "\n",
    "    def doblar(self, direccion):    \n",
    "    #Cambiar la dirección del vehículo.\n",
    "        self.direccion = direccion\n",
    "        return print(f'la dirección del vehículo es {direccion}')\n",
    "\n",
    "    def estado(self):\n",
    "    #Muestra el estado actual del vehículo en cuanto a su velocidad y dirección\n",
    "        #como este método no tiene el atributo velocidad y dirección la palabra reservada self.atributo para acceder a esa información\n",
    "        return f'la velocidad del vehículo es {self.velocidad} km/h y su dirección es {self.direccion}'\n",
    "\n",
    "    def info(self):\n",
    "    #Muestra la información básica del vehículo.\n",
    "        return f'El color del vehículo es {self.color}, su tipo es {self.tipo} y el cilindraje es {self.cilindrada}'\n",
    "        #como este método no tiene el atributo color, tipo y velocidad se usa la palabra reservada self.atributo"
   ]
  },
  {
   "cell_type": "code",
   "execution_count": 79,
   "metadata": {},
   "outputs": [
    {
     "name": "stdout",
     "output_type": "stream",
     "text": [
      "El vehículo está acelerando a un velicidad de 50 km/h\n",
      "El vehículo está frenando a un velicidad de 10 km/h\n",
      "la dirección del vehículo es Izquierda\n",
      "la velocidad del vehículo es 40 km/h y su dirección es Izquierda\n",
      "El color del vehículo es Azul, su tipo es Moto y el cilindraje es 300\n"
     ]
    }
   ],
   "source": [
    "\n",
    "auto5 = Vehiculo(\"Azul\", \"Moto\", 300)\n",
    "auto5.acelerar(50)\n",
    "auto5.frenar(10)\n",
    "auto5.doblar(\"Izquierda\")\n",
    "print(auto5.estado())\n",
    "print(auto5.info())"
   ]
  },
  {
   "cell_type": "code",
   "execution_count": null,
   "metadata": {},
   "outputs": [],
   "source": [
    "#5. Crear una clase que permita utilizar las funciones creadas en la práctica del módulo 6:\n",
    "# Verificar Primo\n",
    "# Valor modal\n",
    "# Conversión grados\n",
    "# Factorial"
   ]
  },
  {
   "cell_type": "code",
   "execution_count": 91,
   "metadata": {},
   "outputs": [
    {
     "name": "stdout",
     "output_type": "stream",
     "text": [
      "True\n"
     ]
    }
   ],
   "source": [
    "\"\"\"Verificar Primo\"\"\"\n",
    "\n",
    "class Numero:\n",
    "    def __init__(self, numero):\n",
    "        self.numero = numero\n",
    "        self.es_primo = True\n",
    "    \n",
    "    def is_prime(self):\n",
    "        if self.numero <= 1:\n",
    "            self.es_primo = False\n",
    "        else:\n",
    "            for i in range(2, self.numero):\n",
    "                if self.numero % i == 0:\n",
    "                    self.es_primo = False\n",
    "                    break\n",
    "        return self.es_primo\n",
    "\n",
    "num = Numero(2)\n",
    "print(num.is_prime())"
   ]
  },
  {
   "cell_type": "code",
   "execution_count": 105,
   "metadata": {},
   "outputs": [
    {
     "name": "stdout",
     "output_type": "stream",
     "text": [
      "(3, 6)\n"
     ]
    }
   ],
   "source": [
    "\"\"\"Valor modal\"\"\"\n",
    "\n",
    "class moda:\n",
    "    def __init__(self, lista):\n",
    "        self.lista = lista\n",
    "\n",
    "    def numero_mas_repetido(self):\n",
    "    #Creación del diccionario de repeticiones, almacena cada numero de la lista como clave y sus repeticiones como valor.\n",
    "        numero_de_repeticiones = {}\n",
    "        #se recorre la lista para cada numero, se verifica si ya se ha contado anteriormente.\n",
    "        for numero in self.lista:\n",
    "            #contar repeticiones\n",
    "            if numero in numero_de_repeticiones:\n",
    "                #si el numero se ha contado anteriormente se aumenta en 1 el valor asociado con esa clave\n",
    "                numero_de_repeticiones[numero] += 1\n",
    "            else:\n",
    "                #si el numero no se ha contado anteriormente se agrega una nueva clave con el valor 1\n",
    "                numero_de_repeticiones[numero] = 1\n",
    "        numero_mas_repetido = max(numero_de_repeticiones, key=numero_de_repeticiones.get)\n",
    "        return numero_mas_repetido, numero_de_repeticiones[numero_mas_repetido]\n",
    "\n",
    "Listamoda = [1,1,1,1,1,2,2,2,2,3,3,3,3,3,4,3,5,4,5,4,5,4,6]\n",
    "print(moda(Listamoda).numero_mas_repetido())    "
   ]
  },
  {
   "cell_type": "code",
   "execution_count": 95,
   "metadata": {},
   "outputs": [
    {
     "name": "stdout",
     "output_type": "stream",
     "text": [
      "310.92777777777775\n"
     ]
    }
   ],
   "source": [
    "\"\"\"Conversión de grados\"\"\"\n",
    "\n",
    "class Temperatura:\n",
    "\n",
    "    def __init__(self, temperatura, origen, destino):\n",
    "        self.temperatura = temperatura\n",
    "        self.origen = origen\n",
    "        self.destino = destino\n",
    "    \n",
    "    def conversion(self):\n",
    "        if self.origen == \"C\" and self.destino == \"F\":\n",
    "            return (self.temperatura * 9/5) + 32\n",
    "        elif self.origen == \"C\" and self.destino == \"K\":\n",
    "            return self.temperatura + 273.15\n",
    "        elif self.origen == \"K\" and self.destino == \"C\":\n",
    "            return self.temperatura - 273.15\n",
    "        elif self.origen == \"K\" and self.destino == \"F\":\n",
    "            return 9/5 *(self.temperatura - 273.15)+ 32\n",
    "        elif self.origen == \"F\" and self.destino == \"C\":\n",
    "            return 5/9 * (self.temperatura - 32)\n",
    "        elif self.origen == \"F\" and self.destino == \"K\":\n",
    "            return 5/9*(self.temperatura - 32) + 273.15\n",
    "\n",
    "grado = Temperatura(100, \"F\", \"K\")\n",
    "print(grado.conversion())"
   ]
  },
  {
   "cell_type": "code",
   "execution_count": 102,
   "metadata": {},
   "outputs": [
    {
     "name": "stdout",
     "output_type": "stream",
     "text": [
      "el factorial de 4 es 24\n"
     ]
    }
   ],
   "source": [
    "\"\"\"Factorial\"\"\"\n",
    "\n",
    "class Factorial:\n",
    "    def __init__(self, numero):\n",
    "        self.numero = numero\n",
    "    \n",
    "    def calcular(self):\n",
    "        if self.numero == 0 or self.numero ==1:\n",
    "            return 1      \n",
    "        else:\n",
    "            return self.numero * Factorial(self.numero-1).calcular()\n",
    "\n",
    "try:\n",
    "    numero = int(input('Ingrese un número entero positivo: '))\n",
    "    if numero < 0:\n",
    "        raise ValueError\n",
    "    fact = Factorial(numero)\n",
    "    print(f'el factorial de {numero} es {fact.calcular()}')\n",
    "except ValueError:\n",
    "    print('El valor ingresado no es un número entero positivo')"
   ]
  },
  {
   "cell_type": "code",
   "execution_count": 103,
   "metadata": {},
   "outputs": [
    {
     "name": "stdout",
     "output_type": "stream",
     "text": [
      "el factorial de 4 es 24\n"
     ]
    }
   ],
   "source": [
    "#6 Probar las funciones incorporadas en la clase del punto 5\n",
    "print(f'el factorial de {numero} es {fact.calcular()}')\n"
   ]
  },
  {
   "cell_type": "code",
   "execution_count": 8,
   "metadata": {},
   "outputs": [
    {
     "name": "stdout",
     "output_type": "stream",
     "text": [
      "[2, 3, 5, 7, 11, 13, 17, 19, 23, 29, 31, 37, 41, 43, 47]\n"
     ]
    }
   ],
   "source": [
    "#7 Es necesario que la clase creada en el punto 5 contenga una lista, sobre la cual se apliquen las funciones incorporadas.\n",
    "\n",
    "class Primo:\n",
    "    def __init__(self):\n",
    "        self.primoslista = []\n",
    "    \n",
    "    def es_primo(self,num):\n",
    "        if num <= 1:\n",
    "            return False\n",
    "        \n",
    "        for i in range(2, num):\n",
    "            if num % i == 0:\n",
    "                return False\n",
    "        return True\n",
    "    \n",
    "    def primos_lista(self,num):\n",
    "        for elemento in range(2,num+1):\n",
    "            if self.es_primo(elemento):\n",
    "                self.primoslista.append(elemento)\n",
    "\n",
    "\n",
    "numero = Primo()\n",
    "numero.primos_lista(50)\n",
    "print(numero.primoslista)\n",
    "\n"
   ]
  },
  {
   "cell_type": "code",
   "execution_count": 4,
   "metadata": {},
   "outputs": [
    {
     "name": "stdout",
     "output_type": "stream",
     "text": [
      "[2, 3, 5, 7, 11, 13, 17, 19, 23, 29, 31, 37, 41, 43, 47, 53, 59, 61, 67, 71, 73, 79, 83, 89, 97]\n"
     ]
    }
   ],
   "source": [
    "#8 Crear un archivo .py aparte y ubicar allí la clase generada en el punto anterior.\n",
    "# Luego realizar la importación del módulo y probar alguna de sus funciones\n",
    "\n",
    "from ejemploModulo import Primos\n",
    "numero = Primos()\n",
    "numero.primos_lista(100)\n",
    "print(numero.primoslista)\n",
    "\n"
   ]
  }
 ],
 "metadata": {
  "kernelspec": {
   "display_name": "Python 3",
   "language": "python",
   "name": "python3"
  },
  "language_info": {
   "codemirror_mode": {
    "name": "ipython",
    "version": 3
   },
   "file_extension": ".py",
   "mimetype": "text/x-python",
   "name": "python",
   "nbconvert_exporter": "python",
   "pygments_lexer": "ipython3",
   "version": "3.10.6"
  },
  "orig_nbformat": 4,
  "vscode": {
   "interpreter": {
    "hash": "916dbcbb3f70747c44a77c7bcd40155683ae19c65e1c03b4aa3499c5328201f1"
   }
  }
 },
 "nbformat": 4,
 "nbformat_minor": 2
}
