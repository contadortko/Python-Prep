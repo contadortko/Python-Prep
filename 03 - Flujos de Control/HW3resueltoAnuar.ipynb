{
 "cells": [
  {
   "cell_type": "code",
   "execution_count": 2,
   "metadata": {},
   "outputs": [
    {
     "name": "stdout",
     "output_type": "stream",
     "text": [
      "El número entero ingresado es igual a Cero\n"
     ]
    }
   ],
   "source": [
    "#1) Crear una variable que contenga un elemento del conjunto de números enteros y luego imprimir por pantalla si es mayor o menor a cero\n",
    "numero_entero = input(\"Ingresar un numero entero = \")\n",
    "\n",
    "try:\n",
    "    numero_entero = int(numero_entero)\n",
    "except ValueError:\n",
    "    print(\"El número ingresado debe ser un entero.\")\n",
    "else:\n",
    "\n",
    "    if numero_entero > 0:\n",
    "        print(f'El número entero {numero_entero} ingresado anteriormente es mayor a cero')\n",
    "    elif numero_entero == 0:\n",
    "        print(\"El número entero ingresado es igual a Cero\")\n",
    "    else:\n",
    "        print(f'El número entero {numero_entero} ingresado es menor a cero')"
   ]
  },
  {
   "cell_type": "code",
   "execution_count": 3,
   "metadata": {},
   "outputs": [
    {
     "name": "stdout",
     "output_type": "stream",
     "text": [
      "las variables a y b son de distintos tipos de datos, la variable a es de tipo <class 'str'> y la variable b es de tipo <class 'int'>.\n"
     ]
    }
   ],
   "source": [
    "#2) Crear dos variables y un condicional que informe si son del mismo tipo de dato\n",
    "\n",
    "a = \"7\"\n",
    "b = 7\n",
    "\n",
    "if type(a) == type(b):\n",
    "    print(f'La variable a y b son del mismo tipo de dato, ambas variables son de tipo {type(a)}')\n",
    "else:\n",
    "    print(f'las variables a y b son de distintos tipos de datos, la variable a es de tipo {type(a)} y la variable b es de tipo {type(b)}.')\n"
   ]
  },
  {
   "cell_type": "code",
   "execution_count": null,
   "metadata": {},
   "outputs": [],
   "source": [
    "#3) Para los valores enteros del 1 al 20, imprimir por pantalla si es par o impar\n",
    "\n",
    "lista = list(range(1,21))\n",
    "\n",
    "for i in lista:\n",
    "    if i % 2 == 0:\n",
    "        print(f'el numero {i} es par')\n",
    "    else:\n",
    "        print(f'El número {i} es impar')"
   ]
  },
  {
   "cell_type": "code",
   "execution_count": null,
   "metadata": {},
   "outputs": [],
   "source": [
    "#4) En un ciclo for mostrar para los valores entre 0 y 5 el resultado de elevarlo a la potencia igual a 3\n",
    "lista = list(range(0,6))\n",
    "for i in lista:\n",
    "    potencia = pow(i,3)\n",
    "    print(f'{i} a la potencia de 3 es igual a {potencia}')"
   ]
  },
  {
   "cell_type": "code",
   "execution_count": 11,
   "metadata": {},
   "outputs": [
    {
     "name": "stdout",
     "output_type": "stream",
     "text": [
      "Ciclo 0 de 2\n",
      "Ciclo 1 de 2\n"
     ]
    }
   ],
   "source": [
    "#5) Crear una variable que contenga un número entero y realizar un ciclo for la misma cantidad de ciclos\n",
    "veces = input(\"Ingrese un número entero =\")\n",
    "\n",
    "try:\n",
    "    veces = int(veces)\n",
    "except ValueError:\n",
    "    print(\"se debe ingresar un número entero\")\n",
    "else:\n",
    "    for i in range(veces):\n",
    "        print(f'Ciclo {i} de {veces}')"
   ]
  },
  {
   "cell_type": "code",
   "execution_count": 3,
   "metadata": {},
   "outputs": [
    {
     "name": "stdout",
     "output_type": "stream",
     "text": [
      "El factorial de 8 es 40320\n"
     ]
    }
   ],
   "source": [
    "#6) Utilizar un ciclo while para realizar el factorial de un número guardado en una variable, sólo si la variable contiene \n",
    "# un número entero mayor a 0\n",
    "\n",
    "numero = input(\"Ingrese un numero mayor a cero = \")\n",
    "\n",
    "try:\n",
    "    numero = int(numero) \n",
    "    if numero <= 0:\n",
    "        raise ValueError\n",
    "except ValueError:\n",
    "    print(\"Ingrese un numero entero y que sea mayor a cero\")\n",
    "else:\n",
    "    resultado = numero\n",
    "    contador = numero - 1\n",
    "    while contador > 0:\n",
    "       \n",
    "        resultado = resultado * contador\n",
    "        contador -= 1\n",
    "    print(f\"El factorial de {numero} es {resultado}\")\n"
   ]
  },
  {
   "cell_type": "code",
   "execution_count": 25,
   "metadata": {},
   "outputs": [
    {
     "name": "stdout",
     "output_type": "stream",
     "text": [
      "1 de 10 veces\n",
      "2 de 10 veces\n",
      "3 de 10 veces\n",
      "4 de 10 veces\n",
      "5 de 10 veces\n",
      "6 de 10 veces\n",
      "7 de 10 veces\n",
      "8 de 10 veces\n",
      "9 de 10 veces\n",
      "10 de 10 veces\n"
     ]
    }
   ],
   "source": [
    "#7) Crear un ciclo for dentro de un ciclo while\n",
    "\n",
    "# Pedimos al usuario que ingrese un número entero\n",
    "veces = int(input(\"Ingrese un numero entero: \"))\n",
    "\n",
    "# Mientras 'veces' sea mayor a 0, seguimos en el bucle\n",
    "contador = veces\n",
    "while contador == veces:\n",
    "      \n",
    "    # Recorremos los números del 1 al 4\n",
    "    for i in range(1,veces+1):\n",
    "        print(f'{i} de {veces} veces')\n",
    "    \n",
    "    # Decrementamos 'contador' en 1\n",
    "    contador -= 1    \n",
    "    \n",
    "    \n",
    "    "
   ]
  },
  {
   "cell_type": "code",
   "execution_count": null,
   "metadata": {},
   "outputs": [],
   "source": [
    "#8) Crear un ciclo while dentro de un ciclo for"
   ]
  },
  {
   "cell_type": "code",
   "execution_count": 72,
   "metadata": {},
   "outputs": [
    {
     "name": "stdout",
     "output_type": "stream",
     "text": [
      "El número 0 es primo\n",
      "El número 1 es primo\n",
      "El número 2 es primo\n",
      "El número 3 es primo\n",
      "El número 5 es primo\n",
      "El número 7 es primo\n",
      "El número 11 es primo\n",
      "El número 13 es primo\n",
      "El número 17 es primo\n",
      "El número 19 es primo\n",
      "El número 23 es primo\n",
      "El número 29 es primo\n",
      "el numero de ciclos fue =  437\n"
     ]
    }
   ],
   "source": [
    "#9) Imprimir los números primos existentes entre 0 y 30\n",
    "\n",
    "contadorCiclos1 = 0 #agregamos esta linea para resolver el punto 11\n",
    "\n",
    "for numero in range(0,31):  \n",
    "    primo1 = True \n",
    "    contadorCiclos1 +=1\n",
    "    for i in range(2,numero):\n",
    "        contadorCiclos1 += 1\n",
    "        if numero % i == 0:\n",
    "            primo1 = False\n",
    "    if primo1:\n",
    "            print(f'El número {numero} es primo')\n",
    "print(\"el numero de ciclos fue = \",contadorCiclos1)\n",
    "    "
   ]
  },
  {
   "cell_type": "code",
   "execution_count": 73,
   "metadata": {},
   "outputs": [
    {
     "name": "stdout",
     "output_type": "stream",
     "text": [
      "El número 0 es primo\n",
      "El número 1 es primo\n",
      "El número 2 es primo\n",
      "El número 3 es primo\n",
      "El número 5 es primo\n",
      "El número 7 es primo\n",
      "El número 11 es primo\n",
      "El número 13 es primo\n",
      "El número 17 es primo\n",
      "El número 19 es primo\n",
      "El número 23 es primo\n",
      "El número 29 es primo\n",
      "el numero de ciclos fue =  166\n"
     ]
    }
   ],
   "source": [
    "#10) ¿Se puede mejorar el proceso del punto 9? Utilizar las sentencias break y/ó continue para tal fin\n",
    "# Definimos la función es_primo con un argumento de entrada 'numero'\n",
    "#9) Imprimir los números primos existentes entre 0 y 30\n",
    "\n",
    "contadorCiclos2 = 0 #agregamos esta linea para resolver el punto 11\n",
    "for numero in range(0,31):  \n",
    "    primo2 = True \n",
    "    contadorCiclos2 +=1\n",
    "    for i in range(2,numero):\n",
    "        contadorCiclos2 += 1\n",
    "        if numero % i == 0:\n",
    "            primo2 = False\n",
    "            break #agregamos esta linea apra optimizar el codigo ya que evita continuar haciendo calculo al hallar el primer false\n",
    "    if primo2:\n",
    "            print(f'El número {numero} es primo')\n",
    "print(\"el numero de ciclos fue = \",contadorCiclos2)"
   ]
  },
  {
   "cell_type": "code",
   "execution_count": 74,
   "metadata": {},
   "outputs": [
    {
     "name": "stdout",
     "output_type": "stream",
     "text": [
      "El código se ha optimizado un 37.99%\n"
     ]
    }
   ],
   "source": [
    "#11) En los puntos 9 y 10, se diseño un código que encuentra números primos y además se lo optimizó.\n",
    "# ¿Es posible saber en qué medida se optimizó?\n",
    "\n",
    "medida = round((contadorCiclos2 / contadorCiclos1),4)*100\n",
    "print(f'El código se ha optimizado un {medida}%')\n"
   ]
  },
  {
   "cell_type": "code",
   "execution_count": null,
   "metadata": {},
   "outputs": [],
   "source": [
    "#12) Si la cantidad de números que se evalúa es mayor a treinta, esa optimización crece?\n",
    "\n",
    "#Definimos una función para el caculo\n",
    "\n",
    "#Si la optimización crece\n",
    "\n",
    "\n",
    "\n"
   ]
  },
  {
   "cell_type": "code",
   "execution_count": null,
   "metadata": {},
   "outputs": [],
   "source": [
    "#13) Aplicando continue, armar un ciclo while que solo imprima los valores divisibles por 12,\n",
    "# dentro del rango de números de 100 a 300\n",
    "\n",
    "for i in range(100,301):\n",
    "    if i % 12 != 0:\n",
    "        continue\n",
    "    else:\n",
    "        print(f'El número {i} es divisible por 12')\n"
   ]
  },
  {
   "cell_type": "code",
   "execution_count": 10,
   "metadata": {},
   "outputs": [
    {
     "name": "stdout",
     "output_type": "stream",
     "text": [
      "Menú:\n",
      "1) Comprobar si un número es primo\n",
      "2) Salir\n",
      "El número -1 no es primo\n",
      "Menú:\n",
      "1) Comprobar si un número es primo\n",
      "2) Salir\n",
      "Opción inválida. Inténtelo de nuevo.\n",
      "Menú:\n",
      "1) Comprobar si un número es primo\n",
      "2) Salir\n",
      "Gracias por utilizar este programa\n"
     ]
    }
   ],
   "source": [
    "#14) Utilizar la función **input()** que permite hacer ingresos por teclado,\n",
    "# para encontrar números primos y dar la opción al usario de buscar el siguiente\n",
    "\n",
    "\n",
    "while True:\n",
    "    # Mostramos el menú\n",
    "    print(\"Menú:\")\n",
    "    print(\"1) Comprobar si un número es primo\")\n",
    "    print(\"2) Salir\")\n",
    "    opcion = int(input(\"Ingrese una opción: \"))\n",
    "    \n",
    "    # Según la opción elegida, realizamos una acción\n",
    "    if opcion == 1:\n",
    "        numero = int(input(\"Ingrese un numero entero =\"))\n",
    "        primo = True\n",
    "        if numero <= 1:\n",
    "            primo = False\n",
    "        for i in range(2,numero):\n",
    "            if numero % i == 0:\n",
    "                primo = False\n",
    "                break\n",
    "        if primo:\n",
    "            print(f'El número {numero} es primo')\n",
    "        else:\n",
    "            print(f'El número {numero} no es primo')\n",
    "    elif opcion == 2:\n",
    "        print(\"Gracias por utilizar este programa\")\n",
    "        break\n",
    "    else:\n",
    "        print(\"Opción inválida. Inténtelo de nuevo.\")\n",
    "        \n",
    "\n",
    "                "
   ]
  }
 ],
 "metadata": {
  "kernelspec": {
   "display_name": "Python 3",
   "language": "python",
   "name": "python3"
  },
  "language_info": {
   "codemirror_mode": {
    "name": "ipython",
    "version": 3
   },
   "file_extension": ".py",
   "mimetype": "text/x-python",
   "name": "python",
   "nbconvert_exporter": "python",
   "pygments_lexer": "ipython3",
   "version": "3.10.6 (main, Nov 14 2022, 16:10:14) [GCC 11.3.0]"
  },
  "orig_nbformat": 4,
  "vscode": {
   "interpreter": {
    "hash": "916dbcbb3f70747c44a77c7bcd40155683ae19c65e1c03b4aa3499c5328201f1"
   }
  }
 },
 "nbformat": 4,
 "nbformat_minor": 2
}
