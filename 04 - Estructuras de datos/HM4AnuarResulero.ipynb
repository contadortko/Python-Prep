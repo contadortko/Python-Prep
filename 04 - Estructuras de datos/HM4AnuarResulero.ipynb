{
 "cells": [
  {
   "cell_type": "code",
   "execution_count": 71,
   "metadata": {},
   "outputs": [
    {
     "name": "stdout",
     "output_type": "stream",
     "text": [
      "['Buenos Aires', 'Brasilia', 'Asunción', 'Montevideo', 'Santiago', 'Lima', 'Caracas', 'Bogotá']\n"
     ]
    }
   ],
   "source": [
    "#1) Crear una lista que contenga nombres de ciudades del mundo que contenga más de 5 elementos e imprimir por pantalla\n",
    "listaPunto1 = [\"Buenos Aires\",\"Brasilia\",\"Asunción\", \"Montevideo\",\"Santiago\",\"Lima\",\"Caracas\",\"Bogotá\"]\n",
    "print(listaPunto1)"
   ]
  },
  {
   "cell_type": "code",
   "execution_count": 72,
   "metadata": {},
   "outputs": [
    {
     "name": "stdout",
     "output_type": "stream",
     "text": [
      "Brasilia\n"
     ]
    }
   ],
   "source": [
    "#2) Imprimir por pantalla el segundo elemento de la lista\n",
    "print(listaPunto1[1])"
   ]
  },
  {
   "cell_type": "code",
   "execution_count": 73,
   "metadata": {},
   "outputs": [
    {
     "name": "stdout",
     "output_type": "stream",
     "text": [
      "['Brasilia', 'Asunción', 'Montevideo']\n"
     ]
    }
   ],
   "source": [
    "#3) Imprimir por pantalla del segundo al cuarto elemento\n",
    "print(listaPunto1[1:4])"
   ]
  },
  {
   "cell_type": "code",
   "execution_count": 74,
   "metadata": {},
   "outputs": [
    {
     "name": "stdout",
     "output_type": "stream",
     "text": [
      "<class 'list'>\n"
     ]
    }
   ],
   "source": [
    "#4) Visualizar el tipo de dato de la lista\n",
    "print(type(listaPunto1))"
   ]
  },
  {
   "cell_type": "code",
   "execution_count": 75,
   "metadata": {},
   "outputs": [
    {
     "name": "stdout",
     "output_type": "stream",
     "text": [
      "['Asunción', 'Montevideo', 'Santiago', 'Lima', 'Caracas', 'Bogotá']\n"
     ]
    }
   ],
   "source": [
    "#5) Visualizar todos los elementos de la lista a partir del tercero de manera genérica, es decir,\n",
    "# sin explicitar la posición del último elemento\n",
    "print(listaPunto1[2:])"
   ]
  },
  {
   "cell_type": "code",
   "execution_count": 76,
   "metadata": {},
   "outputs": [
    {
     "name": "stdout",
     "output_type": "stream",
     "text": [
      "['Buenos Aires', 'Brasilia', 'Asunción', 'Montevideo']\n"
     ]
    }
   ],
   "source": [
    "#6) Visualizar los primeros 4 elementos de la lista\n",
    "print(listaPunto1[:4])"
   ]
  },
  {
   "cell_type": "code",
   "execution_count": 14,
   "metadata": {},
   "outputs": [
    {
     "ename": "AttributeError",
     "evalue": "'NoneType' object has no attribute 'append'",
     "output_type": "error",
     "traceback": [
      "\u001b[0;31m---------------------------------------------------------------------------\u001b[0m",
      "\u001b[0;31mAttributeError\u001b[0m                            Traceback (most recent call last)",
      "\u001b[0;32m/tmp/ipykernel_753/3556447350.py\u001b[0m in \u001b[0;36m<module>\u001b[0;34m\u001b[0m\n\u001b[1;32m      1\u001b[0m \u001b[0;31m#7) Agregar una ciudad más a la lista que ya exista y otra que no ¿Arroja algún tipo de error?\u001b[0m\u001b[0;34m\u001b[0m\u001b[0;34m\u001b[0m\u001b[0m\n\u001b[0;32m----> 2\u001b[0;31m \u001b[0mlistaPunto1\u001b[0m\u001b[0;34m.\u001b[0m\u001b[0mappend\u001b[0m\u001b[0;34m(\u001b[0m\u001b[0;34m\"Santiago\"\u001b[0m\u001b[0;34m)\u001b[0m\u001b[0;34m.\u001b[0m\u001b[0mappend\u001b[0m\u001b[0;34m(\u001b[0m\u001b[0;34m\"Rio de Janeiro\"\u001b[0m\u001b[0;34m)\u001b[0m\u001b[0;34m\u001b[0m\u001b[0;34m\u001b[0m\u001b[0m\n\u001b[0m\u001b[1;32m      3\u001b[0m \u001b[0mprint\u001b[0m\u001b[0;34m(\u001b[0m\u001b[0mlistaPunto1\u001b[0m\u001b[0;34m)\u001b[0m\u001b[0;34m\u001b[0m\u001b[0;34m\u001b[0m\u001b[0m\n\u001b[1;32m      4\u001b[0m \u001b[0;34m\"\"\"Si arroja un error solo se le puede dar un argumento al tiempo\"\"\"\u001b[0m\u001b[0;34m\u001b[0m\u001b[0;34m\u001b[0m\u001b[0m\n",
      "\u001b[0;31mAttributeError\u001b[0m: 'NoneType' object has no attribute 'append'"
     ]
    }
   ],
   "source": [
    "#7) Agregar una ciudad más a la lista que ya exista y otra que no ¿Arroja algún tipo de error?\n",
    "listaPunto1.append(\"Santiago\",\"Rio de Janeiro\")\n",
    "print(listaPunto1)\n",
    "\"\"\"Si arroja un error solo se le puede dar un argumento al tiempo\"\"\"\n",
    "\n"
   ]
  },
  {
   "cell_type": "code",
   "execution_count": 77,
   "metadata": {},
   "outputs": [
    {
     "name": "stdout",
     "output_type": "stream",
     "text": [
      "['Buenos Aires', 'Brasilia', 'Asunción', 'Montevideo', 'Santiago', 'Lima', 'Caracas', 'Bogotá', 'Ciudad de México', 'Montevideo']\n"
     ]
    }
   ],
   "source": [
    "\"\"\"el error anterior se soluciona con el método extend\"\"\"\n",
    "listaPunto1.extend([\"Ciudad de México\",\"Montevideo\"])\n",
    "print(listaPunto1)"
   ]
  },
  {
   "cell_type": "code",
   "execution_count": 78,
   "metadata": {},
   "outputs": [
    {
     "name": "stdout",
     "output_type": "stream",
     "text": [
      "['Buenos Aires', 'Brasilia', 'Asunción', 'Quito', 'Montevideo', 'Santiago', 'Lima', 'Caracas', 'Bogotá', 'Ciudad de México', 'Montevideo']\n"
     ]
    }
   ],
   "source": [
    "#8) Agregar otra ciudad, pero en la cuarta posición\n",
    "listaPunto1.insert(3,\"Quito\")\n",
    "print(listaPunto1)\n",
    "#del listaPunto1[4]\n",
    "#listaPunto1"
   ]
  },
  {
   "cell_type": "code",
   "execution_count": 80,
   "metadata": {},
   "outputs": [
    {
     "name": "stdout",
     "output_type": "stream",
     "text": [
      "['Buenos Aires', 'Brasilia', 'Asunción', 'Quito', 'Montevideo', 'Santiago', 'Lima', 'Caracas', 'Bogotá', 'Ciudad de México', 'Montevideo', 'Madrid', 'Roma', 'Bruselas']\n"
     ]
    }
   ],
   "source": [
    "#9) Concatenar otra lista a la ya creada\n",
    "\"\"\"Método 1 utilizando el operador +=\"\"\"\n",
    "listaPunto9 = [\"Madrid\",\"Roma\",\"Bruselas\"]\n",
    "listaPunto1 += listaPunto9\n",
    "print(listaPunto1)"
   ]
  },
  {
   "cell_type": "code",
   "execution_count": 79,
   "metadata": {},
   "outputs": [
    {
     "name": "stdout",
     "output_type": "stream",
     "text": [
      "['manzana', 'pera', 'naranja', 'melon', 'kiwi', 'sandia']\n"
     ]
    }
   ],
   "source": [
    "\"\"\"Método 2 utilizando el método extend\"\"\"\n",
    "lista2 = [\"manzana\",\"pera\",\"naranja\"]\n",
    "lista3 = [\"melon\",\"kiwi\",\"sandia\"]\n",
    "lista2.extend(lista3)\n",
    "print(lista2)"
   ]
  },
  {
   "cell_type": "code",
   "execution_count": 81,
   "metadata": {},
   "outputs": [
    {
     "name": "stdout",
     "output_type": "stream",
     "text": [
      "4\n"
     ]
    },
    {
     "data": {
      "text/plain": [
       "'Se encuentra que solo da el indice de la primera coincidencia'"
      ]
     },
     "execution_count": 81,
     "metadata": {},
     "output_type": "execute_result"
    }
   ],
   "source": [
    "#10) Encontrar el índice de la ciudad que en el punto 7 agregamos duplicada. ¿Se nota alguna particularidad?\n",
    "indice = listaPunto1.index(\"Montevideo\")\n",
    "print(indice)\n",
    "\"\"\"Se encuentra que solo da el indice de la primera coincidencia\"\"\""
   ]
  },
  {
   "cell_type": "code",
   "execution_count": 82,
   "metadata": {},
   "outputs": [
    {
     "name": "stdout",
     "output_type": "stream",
     "text": [
      "El elemento no se encuentra en la lista\n"
     ]
    },
    {
     "data": {
      "text/plain": [
       "'Arroja un error, por tanto adiocionamos un try para darle un manejo a dicho error'"
      ]
     },
     "execution_count": 82,
     "metadata": {},
     "output_type": "execute_result"
    }
   ],
   "source": [
    "#11) ¿Qué pasa si se busca un elemento que no existe?\n",
    "try:\n",
    "    indice2= listaPunto1.index(\"Montelibano\")\n",
    "    print(indice2)\n",
    "except ValueError:\n",
    "    print(\"El elemento no se encuentra en la lista\")\n",
    "\"\"\"Arroja un error, por tanto adiocionamos un try para darle un manejo a dicho error\"\"\"\n"
   ]
  },
  {
   "cell_type": "code",
   "execution_count": 84,
   "metadata": {},
   "outputs": [
    {
     "name": "stdout",
     "output_type": "stream",
     "text": [
      "['Buenos Aires', 'Brasilia', 'Asunción', 'Quito', 'Montevideo', 'Lima', 'Caracas', 'Bogotá', 'Ciudad de México', 'Montevideo', 'Madrid', 'Roma', 'Bruselas']\n"
     ]
    }
   ],
   "source": [
    "#12) Eliminar un elemento de la lista\n",
    "listaPunto1.remove(\"Santiago\") #Borra la primera coincidencia que encuentra en la lista\n",
    "print(listaPunto1)"
   ]
  },
  {
   "cell_type": "code",
   "execution_count": null,
   "metadata": {},
   "outputs": [],
   "source": [
    "#13) ¿Qué pasa si el elemento a eliminar no existe?\n",
    "\"\"\"Si el elemento a eliminar no existe arroja erro\"\"\"\n"
   ]
  },
  {
   "cell_type": "code",
   "execution_count": 83,
   "metadata": {},
   "outputs": [
    {
     "name": "stdout",
     "output_type": "stream",
     "text": [
      "Bruselas\n"
     ]
    },
    {
     "data": {
      "text/plain": [
       "'otra forma es usar la función last del modulo collections'"
      ]
     },
     "execution_count": 83,
     "metadata": {},
     "output_type": "execute_result"
    }
   ],
   "source": [
    "#14) Extraer el úlimo elemento de la lista, guardarlo en una variable e imprimirlo\n",
    "\"\"\"El indice -1 siempre se refiere al ultimo elemento de la lista\"\"\"\n",
    "nuevaVariable = listaPunto1[-1]\n",
    "print(nuevaVariable)\n",
    "\"\"\"otra opción es usar el método pop, pero esto eliminaría el ultimo elemento\"\"\"\n",
    "\"\"\"otra forma es usar la función last del modulo collections\"\"\""
   ]
  },
  {
   "cell_type": "code",
   "execution_count": 86,
   "metadata": {},
   "outputs": [
    {
     "name": "stdout",
     "output_type": "stream",
     "text": [
      "['Buenos Aires', 'Brasilia', 'Asunción', 'Quito', 'Montevideo', 'Lima', 'Caracas', 'Bogotá', 'Ciudad de México', 'Montevideo', 'Madrid', 'Roma', 'Bruselas', 'Buenos Aires', 'Brasilia', 'Asunción', 'Quito', 'Montevideo', 'Lima', 'Caracas', 'Bogotá', 'Ciudad de México', 'Montevideo', 'Madrid', 'Roma', 'Bruselas', 'Buenos Aires', 'Brasilia', 'Asunción', 'Quito', 'Montevideo', 'Lima', 'Caracas', 'Bogotá', 'Ciudad de México', 'Montevideo', 'Madrid', 'Roma', 'Bruselas', 'Buenos Aires', 'Brasilia', 'Asunción', 'Quito', 'Montevideo', 'Lima', 'Caracas', 'Bogotá', 'Ciudad de México', 'Montevideo', 'Madrid', 'Roma', 'Bruselas']\n"
     ]
    }
   ],
   "source": [
    "#15) Mostrar la lista multiplicada por 4\n",
    "print(listaPunto1 * 4)"
   ]
  },
  {
   "cell_type": "code",
   "execution_count": 93,
   "metadata": {},
   "outputs": [
    {
     "name": "stdout",
     "output_type": "stream",
     "text": [
      "{'Buenos Aires': 4, 'Brasilia': 4, 'Asunción': 4, 'Quito': 4, 'Montevideo': 8, 'Lima': 4, 'Caracas': 4, 'Bogotá': 4, 'Ciudad de México': 4, 'Madrid': 4, 'Roma': 4, 'Bruselas': 4}\n"
     ]
    }
   ],
   "source": [
    "#extra cuantas veces está repetida cada ciudad del punto 15\n",
    "\"\"\"Para contar cuántas veces se repite cada ciudad en una lista, puedes utilizar un diccionario\n",
    "para llevar un registro de las veces que se ha encontrado cada ciudad\"\"\"\n",
    "ciudades = listaPunto1\n",
    "ciudadesRepetidas = ciudades * 4\n",
    "diccionarioCiudadRepetida = {}\n",
    "\n",
    "for ciudad in ciudadesRepetidas:\n",
    "    if ciudad in diccionarioCiudadRepetida:\n",
    "        diccionarioCiudadRepetida[ciudad] += 1\n",
    "    else:\n",
    "        diccionarioCiudadRepetida[ciudad] = 1\n",
    "print(diccionarioCiudadRepetida)"
   ]
  },
  {
   "cell_type": "code",
   "execution_count": 43,
   "metadata": {},
   "outputs": [
    {
     "name": "stdout",
     "output_type": "stream",
     "text": [
      "(1, 2, 3, 4, 5, 6, 7, 8, 9, 10, 11, 12, 13, 14, 15, 16, 17, 18, 19, 20)\n"
     ]
    }
   ],
   "source": [
    "#16) Crear una tupla que contenga los números enteros del 1 al 20\n",
    "nuevaTupla = tuple(range(1,21))\n",
    "print(nuevaTupla)"
   ]
  },
  {
   "cell_type": "code",
   "execution_count": 45,
   "metadata": {},
   "outputs": [
    {
     "name": "stdout",
     "output_type": "stream",
     "text": [
      "(11, 12, 13, 14, 15)\n"
     ]
    }
   ],
   "source": [
    "#17) Imprimir desde el índice 10 al 15 de la tupla\n",
    "print(nuevaTupla[10:15])"
   ]
  },
  {
   "cell_type": "code",
   "execution_count": 49,
   "metadata": {},
   "outputs": [
    {
     "name": "stdout",
     "output_type": "stream",
     "text": [
      "20 False\n",
      "True\n",
      "False\n"
     ]
    }
   ],
   "source": [
    "#18) Evaluar si los números 20 y 30 están dentro de la tupla\n",
    "\"\"\"para evaluar se usa el operador in\"\"\"\n",
    "print(20,30 in nuevaTupla) #opción 1\n",
    "print(20 in nuevaTupla) #opción 2\n",
    "print(30 in nuevaTupla) #opción 3"
   ]
  },
  {
   "cell_type": "code",
   "execution_count": 94,
   "metadata": {},
   "outputs": [
    {
     "name": "stdout",
     "output_type": "stream",
     "text": [
      "Se ha insertado el elemento paris\n",
      "['Buenos Aires', 'Brasilia', 'Asunción', 'Quito', 'Montevideo', 'Lima', 'Caracas', 'Bogotá', 'Ciudad de México', 'Montevideo', 'Madrid', 'Roma', 'Bruselas', 'paris']\n"
     ]
    }
   ],
   "source": [
    "#19) Con la lista creada en el punto 1, validar la existencia del elemento 'París' y si no existe, agregarlo.\n",
    "#Utilizar una variable e informar lo sucedido.\n",
    "elemento = \"paris\"\n",
    "if(not(elemento in listaPunto1)):\n",
    "    listaPunto1.append(elemento)\n",
    "    print(f'Se ha insertado el elemento {elemento}')\n",
    "else:\n",
    "    print(f'El elemento {elemento} ya existía')\n",
    "print(listaPunto1)\n"
   ]
  },
  {
   "cell_type": "code",
   "execution_count": 96,
   "metadata": {},
   "outputs": [
    {
     "name": "stdout",
     "output_type": "stream",
     "text": [
      "La ciudad de Santiago se encuentra 1 veces en la lista\n",
      "La ciudad de Santiago se encuentra 2 veces en la lista.\n"
     ]
    }
   ],
   "source": [
    "#20) Mostrar la cantidad de veces que se encuentra un elemento específico dentro de la tupla y de la lista\n",
    "\n",
    "print(\"La ciudad de Santiago se encuentra {} veces en la lista\".format(listaPunto1.count(\"Lima\"))) #opción 1\n",
    "print(f'La ciudad de Santiago se encuentra {listaPunto1.count(\"Montevideo\")} veces en la lista.') #opción 2\n"
   ]
  },
  {
   "cell_type": "code",
   "execution_count": null,
   "metadata": {},
   "outputs": [],
   "source": [
    "#21) Convertir la tupla en una lista\n",
    "print(type(nuevaTupla))\n",
    "print(nuevaTupla)\n",
    "\n",
    "conversión = list(nuevaTupla)\n",
    "print(type(conversión))\n",
    "print(conversión)"
   ]
  },
  {
   "cell_type": "code",
   "execution_count": 60,
   "metadata": {},
   "outputs": [
    {
     "name": "stdout",
     "output_type": "stream",
     "text": [
      "1\n",
      "2\n",
      "3\n"
     ]
    }
   ],
   "source": [
    "#22) Desempaquetar solo los primeros 3 elementos de la tupla en 3 variables\n",
    "\"\"\"sintaxis de desempaquetado: x,y,x = nombretupla[indicex],nombretupla[indicey],nombretupla[indicez]\"\"\"\n",
    "elemento1, elemento2, elemento3 = nuevaTupla[0],nuevaTupla[1],nuevaTupla[2]\n",
    "print(elemento1)\n",
    "print(elemento2)\n",
    "print(elemento3)"
   ]
  },
  {
   "cell_type": "code",
   "execution_count": 109,
   "metadata": {},
   "outputs": [
    {
     "name": "stdout",
     "output_type": "stream",
     "text": [
      "1\n",
      "2\n",
      "3\n"
     ]
    }
   ],
   "source": [
    "\"\"\"sintaxis de desempaquetado: x,y,x = nombretupla[:indice total]\"\"\"\n",
    "elemento1, elemento2, elemento3 = nuevaTupla[:3]\n",
    "print(elemento1)\n",
    "print(elemento2)\n",
    "print(elemento3)"
   ]
  },
  {
   "cell_type": "code",
   "execution_count": 114,
   "metadata": {},
   "outputs": [
    {
     "name": "stdout",
     "output_type": "stream",
     "text": [
      "{'Ciudad': ['Buenos Aires', 'Brasilia', 'Asunción', 'Quito', 'Montevideo', 'Lima', 'Caracas', 'Bogotá', 'Ciudad de México', 'Montevideo', 'Madrid', 'Roma', 'Bruselas', 'paris'], 'País': ('Estados Unidos', 'Argentina', 'Chile', 'Colombia', 'Colombia'), 'Continente': ('America', 'Africa', 'Europa', 'Asia'), 'Ejemplo': [1, 2, 3, 4, 5, 6]}\n"
     ]
    }
   ],
   "source": [
    "#23) Crear un diccionario utilizando la lista crada en el punto 1, asignandole la clave \"ciudad\".\n",
    "# Agregar tambien otras claves, como puede ser \"Pais\" y \"Continente\".\n",
    "listaCiudades = listaPunto1\n",
    "listapais = \"Estados Unidos\",\"Argentina\",\"Chile\", \"Colombia\", \"Colombia\"\n",
    "listaContinente = \"America\",\"Africa\",\"Europa\",\"Asia\"\n",
    "Diccionario = { \"Ciudad\": listaCiudades,\n",
    "                \"País\": listapais,\n",
    "                \"Continente\": listaContinente,\n",
    "                \"Ejemplo\": [1,2,3,4,5,6]\n",
    "}\n",
    "print(Diccionario)\n",
    "\n",
    "\n"
   ]
  },
  {
   "cell_type": "code",
   "execution_count": 119,
   "metadata": {},
   "outputs": [
    {
     "name": "stdout",
     "output_type": "stream",
     "text": [
      "dict_keys(['Ciudad', 'País', 'Continente', 'Ejemplo'])\n",
      "['Buenos Aires', 'Brasilia', 'Asunción', 'Quito', 'Montevideo', 'Lima', 'Caracas', 'Bogotá', 'Ciudad de México', 'Montevideo', 'Madrid', 'Roma', 'Bruselas', 'paris']\n"
     ]
    }
   ],
   "source": [
    "#24) Imprimir las claves del diccionario\n",
    "print(Diccionario.keys()) #opción 1\n",
    "print(Diccionario[\"Ciudad\"]) #opción 2"
   ]
  },
  {
   "cell_type": "code",
   "execution_count": 118,
   "metadata": {},
   "outputs": [
    {
     "name": "stdout",
     "output_type": "stream",
     "text": [
      "dict_values([['Buenos Aires', 'Brasilia', 'Asunción', 'Quito', 'Montevideo', 'Lima', 'Caracas', 'Bogotá', 'Ciudad de México', 'Montevideo', 'Madrid', 'Roma', 'Bruselas', 'paris'], ('Estados Unidos', 'Argentina', 'Chile', 'Colombia', 'Colombia'), ('America', 'Africa', 'Europa', 'Asia'), [1, 2, 3, 4, 5, 6]])\n"
     ]
    }
   ],
   "source": [
    "#Imprimir las ciudades a través de su clave\n",
    "print(Diccionario.values())"
   ]
  }
 ],
 "metadata": {
  "kernelspec": {
   "display_name": "Python 3",
   "language": "python",
   "name": "python3"
  },
  "language_info": {
   "codemirror_mode": {
    "name": "ipython",
    "version": 3
   },
   "file_extension": ".py",
   "mimetype": "text/x-python",
   "name": "python",
   "nbconvert_exporter": "python",
   "pygments_lexer": "ipython3",
   "version": "3.10.6"
  },
  "orig_nbformat": 4,
  "vscode": {
   "interpreter": {
    "hash": "916dbcbb3f70747c44a77c7bcd40155683ae19c65e1c03b4aa3499c5328201f1"
   }
  }
 },
 "nbformat": 4,
 "nbformat_minor": 2
}
