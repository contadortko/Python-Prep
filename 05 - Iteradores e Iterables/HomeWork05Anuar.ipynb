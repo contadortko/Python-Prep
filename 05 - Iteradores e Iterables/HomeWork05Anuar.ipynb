{
 "cells": [
  {
   "attachments": {},
   "cell_type": "markdown",
   "metadata": {},
   "source": [
    "Iteradores e Iterables"
   ]
  },
  {
   "cell_type": "code",
   "execution_count": 12,
   "metadata": {},
   "outputs": [
    {
     "name": "stdout",
     "output_type": "stream",
     "text": [
      "[-15, -14, -13, -12, -11, -10, -9, -8, -7, -6, -5, -4, -3, -2, -1]\n"
     ]
    }
   ],
   "source": [
    "#1. A partir de una lista vacía, utilizar un ciclo while para cargar allí números negativos del -15 al -1\n",
    "\n",
    "# Define an empty list\n",
    "lista_Vacia = []\n",
    "# Define the starting number\n",
    "numero = -15\n",
    "# Start an infinite loop\n",
    "while True:\n",
    "    # Append the current number to the list\n",
    "    lista_Vacia.append(numero) \n",
    "    # Increase the number by 1\n",
    "    numero += 1\n",
    "    # Check if the number is greater than or equal to 0\n",
    "    if numero >= 0:\n",
    "        # If it is, exit the loop\n",
    "        break\n",
    "# Print the final list\n",
    "print(lista_Vacia)   "
   ]
  },
  {
   "cell_type": "code",
   "execution_count": 18,
   "metadata": {},
   "outputs": [
    {
     "name": "stdout",
     "output_type": "stream",
     "text": [
      "-14\n",
      "-12\n",
      "-10\n",
      "-8\n",
      "-6\n",
      "-4\n",
      "-2\n",
      "Yes, it is possible to iterate through the list and print only the even numbers.\n"
     ]
    }
   ],
   "source": [
    "#2) ¿Con un ciclo while sería posible recorrer la lista para imprimir sólo los números pares?\n",
    "# Define the list of negative numbers\n",
    "lista_negativa = [-15,-14,-13,-12,-11,-10,-9,-8,-7,-6,-5,-4,-3,-2,-1]\n",
    "# Initialize an index variable\n",
    "indice = 0\n",
    "# Start the while loop\n",
    "while indice < len(lista_negativa):\n",
    "    # Check if the current number is even\n",
    "    if lista_negativa[indice] % 2 == 0:\n",
    "        # If it is, print it\n",
    "        print(lista_negativa[indice])\n",
    "    # Increment the index\n",
    "    indice += 1\n",
    "print(\"Yes, it is possible to iterate through the list and print only the even numbers.\")"
   ]
  },
  {
   "cell_type": "code",
   "execution_count": 20,
   "metadata": {},
   "outputs": [
    {
     "name": "stdout",
     "output_type": "stream",
     "text": [
      "-14\n",
      "-12\n",
      "-10\n",
      "-8\n",
      "-6\n",
      "-4\n",
      "-2\n"
     ]
    }
   ],
   "source": [
    "#3) Resolver el punto anterior sin utilizar un ciclo while\n",
    "# Define the list of negative numbers\n",
    "lista_negativa = [-15,-14,-13,-12,-11,-10,-9,-8,-7,-6,-5,-4,-3,-2,-1]\n",
    "# Iterate through each item in the list\n",
    "for numero in lista_negativa:\n",
    "    # Check if the current item is even\n",
    "    if numero % 2 == 0:\n",
    "        # If the current item is even, print it\n",
    "        print(numero)\n"
   ]
  },
  {
   "cell_type": "code",
   "execution_count": 26,
   "metadata": {},
   "outputs": [
    {
     "name": "stdout",
     "output_type": "stream",
     "text": [
      "-15\n",
      "-14\n",
      "-13\n"
     ]
    }
   ],
   "source": [
    "#4) Utilizar el iterable para recorrer sólo los primeros 3 elementos\n",
    "# Define the list of negative numbers\n",
    "lista_negativa = [-15,-14,-13,-12,-11,-10,-9,-8,-7,-6,-5,-4,-3,-2,-1]\n",
    "# Iterate through each item in the list\n",
    "for numero in range(3):\n",
    "    # Print the items\n",
    "    print(lista_negativa[numero])\n",
    "        "
   ]
  },
  {
   "cell_type": "code",
   "execution_count": 36,
   "metadata": {},
   "outputs": [
    {
     "name": "stdout",
     "output_type": "stream",
     "text": [
      "El indice 0 corresponde al número: -15\n",
      "El indice 1 corresponde al número: -14\n",
      "El indice 2 corresponde al número: -13\n",
      "El indice 3 corresponde al número: -12\n",
      "El indice 4 corresponde al número: -11\n",
      "El indice 5 corresponde al número: -10\n",
      "El indice 6 corresponde al número: -9\n",
      "El indice 7 corresponde al número: -8\n",
      "El indice 8 corresponde al número: -7\n",
      "El indice 9 corresponde al número: -6\n",
      "El indice 10 corresponde al número: -5\n",
      "El indice 11 corresponde al número: -4\n",
      "El indice 12 corresponde al número: -3\n",
      "El indice 13 corresponde al número: -2\n",
      "El indice 14 corresponde al número: -1\n"
     ]
    }
   ],
   "source": [
    "#5) Utilizar la función **enumerate** para obtener dentro del iterable, tambien el índice al que corresponde el elemento\n",
    "# This code creates a list called \"lista_negativa\" with a range of negative integers from -15 to -1\n",
    "lista_negativa = [-15,-14,-13,-12,-11,-10,-9,-8,-7,-6,-5,-4,-3,-2,-1]\n",
    "# This for loop uses the \"enumerate\" function to iterate through the list, \n",
    "# and assigns the index of each element to the variable \"indice\" and the element itself to the variable \"numero\"\n",
    "for indice,numero in enumerate(lista_negativa): # syntax is enumerate(iterable,start=0) start is optional\n",
    "    # This line prints the index and corresponding element of the current iteration\n",
    "    print(f\"El indice {indice} corresponde al número: {numero}\")\n",
    "\n"
   ]
  },
  {
   "cell_type": "code",
   "execution_count": 88,
   "metadata": {},
   "outputs": [
    {
     "name": "stdout",
     "output_type": "stream",
     "text": [
      "[1, 2, 3, 4, 5, 6, 7, 8, 9, 10, 11, 12, 13, 14, 15, 16, 17, 18, 19, 20]\n"
     ]
    }
   ],
   "source": [
    "#6) Dada la siguiente lista de números enteros entre 1 y 20, crear un ciclo donde se completen los valores faltantes: \n",
    "# lista = [1,2,5,7,8,10,13,14,15,17,20]\n",
    "\n",
    "lista_incompleta = [1,2,5,7,8,10,13,14,15,17,20]\n",
    "\n",
    "# Iterates through the numbers from 1 to the last element of the list\n",
    "for numero in range(1,lista_incompleta[-1]): #if I don't know what is the last element of the list I Used [-1]\n",
    "    # Check if current number is already in the list\n",
    "    if numero not in lista_incompleta:\n",
    "        # If not, add it to the list\n",
    "        lista_incompleta.append(numero)\n",
    "\n",
    "lista_incompleta.sort()\n",
    "# Print the final list\n",
    "print(lista_incompleta)\n"
   ]
  },
  {
   "cell_type": "code",
   "execution_count": null,
   "metadata": {},
   "outputs": [],
   "source": [
    "#7) La sucesión de Fibonacci es un listado de números que sigue la fórmula: <br>\n",
    "#n<sub>0</sub> = 0<br>\n",
    "#n<sub>1</sub> = 1<br>\n",
    "#n<sub>i</sub> = n<sub>i-1</sub> + n<sub>i-2</sub><br>\n",
    "#Crear una lista con los primeros treinta números de la sucesión.<br>"
   ]
  },
  {
   "cell_type": "code",
   "execution_count": null,
   "metadata": {},
   "outputs": [],
   "source": [
    "#8) Realizar la suma de todos elementos de la lista del punto anterior"
   ]
  },
  {
   "cell_type": "code",
   "execution_count": null,
   "metadata": {},
   "outputs": [],
   "source": [
    "#9) La proporción aurea se expresa con una proporción matemática que nace el número irracional Phi= 1,618… que los griegos llamaron número áureo. El cuál se puede aproximar con la sucesión de Fibonacci. Con la lista del ejercicio anterior, imprimir el cociente de los últimos 5 pares de dos números contiguos:<br>\n",
    "#Donde i es la cantidad total de elementos<br>\n",
    "#n<sub>i-1</sub> / n<sub>i</sub><br>\n",
    "#n<sub>i-2</sub> / n<sub>i-1</sub><br>\n",
    "#n<sub>i-3</sub> / n<sub>i-2</sub><br>\n",
    "#n<sub>i-4</sub> / n<sub>i-3</sub><br>\n",
    "#n<sub>i-5</sub> / n<sub>i-4</sub><br>\n",
    "\n"
   ]
  },
  {
   "cell_type": "code",
   "execution_count": null,
   "metadata": {},
   "outputs": [],
   "source": [
    "#10) A partir de la variable cadena ya dada, mostrar en qué posiciones aparece la letra \"n\"<br>\n",
    "#cadena = 'Hola Mundo. Esto es una practica del lenguaje de programación Python'"
   ]
  },
  {
   "cell_type": "code",
   "execution_count": null,
   "metadata": {},
   "outputs": [],
   "source": [
    "#11) Crear un diccionario e imprimir sus claves utilizando un iterador"
   ]
  },
  {
   "cell_type": "code",
   "execution_count": null,
   "metadata": {},
   "outputs": [],
   "source": [
    "#12) Convertir en una lista la variable \"cadena\" del punto 10 y luego recorrerla con un iterador "
   ]
  },
  {
   "cell_type": "code",
   "execution_count": null,
   "metadata": {},
   "outputs": [],
   "source": [
    "#13) Crear dos listas y unirlas en una tupla utilizando la función zip"
   ]
  },
  {
   "cell_type": "code",
   "execution_count": null,
   "metadata": {},
   "outputs": [],
   "source": []
  }
 ],
 "metadata": {
  "kernelspec": {
   "display_name": "Python 3",
   "language": "python",
   "name": "python3"
  },
  "language_info": {
   "codemirror_mode": {
    "name": "ipython",
    "version": 3
   },
   "file_extension": ".py",
   "mimetype": "text/x-python",
   "name": "python",
   "nbconvert_exporter": "python",
   "pygments_lexer": "ipython3",
   "version": "3.10.6"
  },
  "orig_nbformat": 4,
  "vscode": {
   "interpreter": {
    "hash": "916dbcbb3f70747c44a77c7bcd40155683ae19c65e1c03b4aa3499c5328201f1"
   }
  }
 },
 "nbformat": 4,
 "nbformat_minor": 2
}
