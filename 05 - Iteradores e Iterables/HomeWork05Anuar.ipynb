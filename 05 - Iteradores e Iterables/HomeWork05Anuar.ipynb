{
 "cells": [
  {
   "attachments": {},
   "cell_type": "markdown",
   "metadata": {},
   "source": [
    "Iteradores e Iterables"
   ]
  },
  {
   "cell_type": "code",
   "execution_count": 12,
   "metadata": {},
   "outputs": [
    {
     "name": "stdout",
     "output_type": "stream",
     "text": [
      "[-15, -14, -13, -12, -11, -10, -9, -8, -7, -6, -5, -4, -3, -2, -1]\n"
     ]
    }
   ],
   "source": [
    "#1. A partir de una lista vacía, utilizar un ciclo while para cargar allí números negativos del -15 al -1\n",
    "\n",
    "# Define an empty list\n",
    "lista_Vacia = []\n",
    "# Define the starting number\n",
    "numero = -15\n",
    "# Start an infinite loop\n",
    "while True:\n",
    "    # Append the current number to the list\n",
    "    lista_Vacia.append(numero) \n",
    "    # Increase the number by 1\n",
    "    numero += 1\n",
    "    # Check if the number is greater than or equal to 0\n",
    "    if numero >= 0:\n",
    "        # If it is, exit the loop\n",
    "        break\n",
    "# Print the final list\n",
    "print(lista_Vacia)   "
   ]
  },
  {
   "cell_type": "code",
   "execution_count": 18,
   "metadata": {},
   "outputs": [
    {
     "name": "stdout",
     "output_type": "stream",
     "text": [
      "-14\n",
      "-12\n",
      "-10\n",
      "-8\n",
      "-6\n",
      "-4\n",
      "-2\n",
      "Yes, it is possible to iterate through the list and print only the even numbers.\n"
     ]
    }
   ],
   "source": [
    "#2) ¿Con un ciclo while sería posible recorrer la lista para imprimir sólo los números pares?\n",
    "# Define the list of negative numbers\n",
    "lista_negativa = [-15,-14,-13,-12,-11,-10,-9,-8,-7,-6,-5,-4,-3,-2,-1]\n",
    "# Initialize an index variable\n",
    "indice = 0\n",
    "# Start the while loop\n",
    "while indice < len(lista_negativa):\n",
    "    # Check if the current number is even\n",
    "    if lista_negativa[indice] % 2 == 0:\n",
    "        # If it is, print it\n",
    "        print(lista_negativa[indice])\n",
    "    # Increment the index\n",
    "    indice += 1\n",
    "print(\"Yes, it is possible to iterate through the list and print only the even numbers.\")"
   ]
  },
  {
   "cell_type": "code",
   "execution_count": 20,
   "metadata": {},
   "outputs": [
    {
     "name": "stdout",
     "output_type": "stream",
     "text": [
      "-14\n",
      "-12\n",
      "-10\n",
      "-8\n",
      "-6\n",
      "-4\n",
      "-2\n"
     ]
    }
   ],
   "source": [
    "#3) Resolver el punto anterior sin utilizar un ciclo while\n",
    "# Define the list of negative numbers\n",
    "lista_negativa = [-15,-14,-13,-12,-11,-10,-9,-8,-7,-6,-5,-4,-3,-2,-1]\n",
    "# Iterate through each item in the list\n",
    "for numero in lista_negativa:\n",
    "    # Check if the current item is even\n",
    "    if numero % 2 == 0:\n",
    "        # If the current item is even, print it\n",
    "        print(numero)\n"
   ]
  },
  {
   "cell_type": "code",
   "execution_count": 26,
   "metadata": {},
   "outputs": [
    {
     "name": "stdout",
     "output_type": "stream",
     "text": [
      "-15\n",
      "-14\n",
      "-13\n"
     ]
    }
   ],
   "source": [
    "#4) Utilizar el iterable para recorrer sólo los primeros 3 elementos\n",
    "# Define the list of negative numbers\n",
    "lista_negativa = [-15,-14,-13,-12,-11,-10,-9,-8,-7,-6,-5,-4,-3,-2,-1]\n",
    "# Iterate through each item in the list\n",
    "for numero in range(3):\n",
    "    # Print the items\n",
    "    print(lista_negativa[numero])\n",
    "        "
   ]
  },
  {
   "cell_type": "code",
   "execution_count": 36,
   "metadata": {},
   "outputs": [
    {
     "name": "stdout",
     "output_type": "stream",
     "text": [
      "El indice 0 corresponde al número: -15\n",
      "El indice 1 corresponde al número: -14\n",
      "El indice 2 corresponde al número: -13\n",
      "El indice 3 corresponde al número: -12\n",
      "El indice 4 corresponde al número: -11\n",
      "El indice 5 corresponde al número: -10\n",
      "El indice 6 corresponde al número: -9\n",
      "El indice 7 corresponde al número: -8\n",
      "El indice 8 corresponde al número: -7\n",
      "El indice 9 corresponde al número: -6\n",
      "El indice 10 corresponde al número: -5\n",
      "El indice 11 corresponde al número: -4\n",
      "El indice 12 corresponde al número: -3\n",
      "El indice 13 corresponde al número: -2\n",
      "El indice 14 corresponde al número: -1\n"
     ]
    }
   ],
   "source": [
    "#5) Utilizar la función **enumerate** para obtener dentro del iterable, tambien el índice al que corresponde el elemento\n",
    "# This code creates a list called \"lista_negativa\" with a range of negative integers from -15 to -1\n",
    "lista_negativa = [-15,-14,-13,-12,-11,-10,-9,-8,-7,-6,-5,-4,-3,-2,-1]\n",
    "# This for loop uses the \"enumerate\" function to iterate through the list, \n",
    "# and assigns the index of each element to the variable \"indice\" and the element itself to the variable \"numero\"\n",
    "for indice,numero in enumerate(lista_negativa): # syntax is enumerate(iterable,start=0) start is optional\n",
    "    # This line prints the index and corresponding element of the current iteration\n",
    "    print(f\"El indice {indice} corresponde al número: {numero}\")\n",
    "\n"
   ]
  },
  {
   "cell_type": "code",
   "execution_count": 88,
   "metadata": {},
   "outputs": [
    {
     "name": "stdout",
     "output_type": "stream",
     "text": [
      "[1, 2, 3, 4, 5, 6, 7, 8, 9, 10, 11, 12, 13, 14, 15, 16, 17, 18, 19, 20]\n"
     ]
    }
   ],
   "source": [
    "#6) Dada la siguiente lista de números enteros entre 1 y 20, crear un ciclo donde se completen los valores faltantes: \n",
    "# lista = [1,2,5,7,8,10,13,14,15,17,20]\n",
    "\n",
    "lista_incompleta = [1,2,5,7,8,10,13,14,15,17,20]\n",
    "\n",
    "# Iterates through the numbers from 1 to the last element of the list\n",
    "for numero in range(1,lista_incompleta[-1]): #if I don't know what is the last element of the list I Used [-1]\n",
    "    # Check if current number is already in the list\n",
    "    if numero not in lista_incompleta:\n",
    "        # If not, add it to the list\n",
    "        lista_incompleta.append(numero)\n",
    "\n",
    "lista_incompleta.sort()\n",
    "# Print the final list\n",
    "print(lista_incompleta)\n"
   ]
  },
  {
   "cell_type": "code",
   "execution_count": 61,
   "metadata": {},
   "outputs": [
    {
     "name": "stdout",
     "output_type": "stream",
     "text": [
      "[0, 1, 1, 2, 3, 5, 8, 13, 21, 34, 55, 89, 144, 233, 377, 610, 987, 1597, 2584, 4181, 6765, 10946, 17711, 28657, 46368, 75025, 121393, 196418, 317811, 514229]\n"
     ]
    }
   ],
   "source": [
    "#7) La sucesión de Fibonacci es un listado de números que sigue la fórmula:\n",
    "\"\"\"\n",
    "n0 = 0\n",
    "n1 = 1\n",
    "ni = ni-1 + ni-2\n",
    "Crear una lista con los primeros treinta números de la sucesión.\"\"\"\n",
    "\n",
    "lista = [0,1]\n",
    "\n",
    "for i in range(2,30):\n",
    "    lista.append(lista[i-1]+lista[i-2])\n",
    "\n",
    "print(lista)\n"
   ]
  },
  {
   "cell_type": "code",
   "execution_count": 62,
   "metadata": {},
   "outputs": [
    {
     "name": "stdout",
     "output_type": "stream",
     "text": [
      "1346268  Respuesta usando la función sum\n",
      "1346268  Respuesta usando el ciclo for\n"
     ]
    }
   ],
   "source": [
    "#8) Realizar la suma de todos elementos de la lista del punto anterior\n",
    "\"\"\"Forma 1 usando la función sum\"\"\"\n",
    "suma_lista = sum(lista)\n",
    "print(suma_lista,\" Respuesta usando la función sum\")\n",
    "\n",
    "\"\"\"Forma 2 usando el ciclo for\"\"\"\n",
    "contador = 0\n",
    "for numero in lista:\n",
    "    contador += numero\n",
    "print(contador, \" Respuesta usando el ciclo for\")\n"
   ]
  },
  {
   "cell_type": "code",
   "execution_count": 91,
   "metadata": {},
   "outputs": [
    {
     "name": "stdout",
     "output_type": "stream",
     "text": [
      "El numero 75025 dividido por el numero 46368 da como resultado 1.618\n",
      "El numero 121393 dividido por el numero 75025 da como resultado 1.618\n",
      "El numero 196418 dividido por el numero 121393 da como resultado 1.618\n",
      "El numero 317811 dividido por el numero 196418 da como resultado 1.618\n",
      "El numero 514229 dividido por el numero 317811 da como resultado 1.618\n"
     ]
    }
   ],
   "source": [
    "#9) La proporción aurea se expresa con una proporción matemática que nace el número irracional Phi= 1,618…\n",
    "# que los griegos llamaron número áureo. El cuál se puede aproximar con la sucesión de Fibonacci. Con la lista del ejercicio anterior,\n",
    "# imprimir el cociente de los últimos 5 pares de dos números contiguos:\n",
    "\n",
    "\"\"\"Donde i es la cantidad total de elementos\n",
    "ni-1 / ni\n",
    "ni-2 / ni-1\n",
    "ni-3 / ni-2\n",
    "ni-4 / ni-3\n",
    "ni-5 / ni-4\"\"\"\n",
    "\n",
    "for numero in range(len(lista)-5,len(lista)):\n",
    "    print(f'El numero {lista[numero]} dividido por el numero {lista[numero-1]} da como resultado',round(lista[numero]/lista[numero-1],4))\n",
    "    numero += 1\n",
    "    \n",
    "    \n"
   ]
  },
  {
   "cell_type": "code",
   "execution_count": 109,
   "metadata": {},
   "outputs": [
    {
     "name": "stdout",
     "output_type": "stream",
     "text": [
      "Forma 1 de lograr este resultado:  [7, 21, 39, 60, 67]\n",
      "Forma 2 de lograr este resultado:  [7, 21, 39, 60, 67]\n",
      "Forma 3 de lograr este resultado:  7\n",
      "Forma 3 de lograr este resultado:  21\n",
      "Forma 3 de lograr este resultado:  39\n",
      "Forma 3 de lograr este resultado:  60\n",
      "Forma 3 de lograr este resultado:  67\n"
     ]
    }
   ],
   "source": [
    "#10) A partir de la variable cadena ya dada, mostrar en qué posiciones aparece la letra \"n\"\n",
    "\n",
    "cadena = 'Hola Mundo. Esto es una practica del lenguaje de programación Python'\n",
    "# La función enumerate() nos devuelve una tupla con el índice y el valor del elemento\n",
    "posiciones = [i for i, letra in enumerate(cadena) if letra == 'n']\n",
    "#i for i es una forma de iterar sobre una secuencia de elementos y guardar en una lista inmediatamente\n",
    "# solo aquellos elementos que cumplen con cierta condición.\n",
    "print(f'Forma 1 de lograr este resultado: ',posiciones)\n",
    "\n",
    "\"\"\"Forma 2 de lograr el mismo resultado\"\"\"\n",
    "lugar = []\n",
    "# Iteramos sobre cada caracter de la cadena\n",
    "for letra in range(len(cadena)):\n",
    "    if cadena[letra] == 'n':\n",
    "        lugar.append(letra)\n",
    "print(f'Forma 2 de lograr este resultado: ',lugar)\n",
    "\n",
    "\"\"\"Forma 3 de lograr el mismo resultado\"\"\"\n",
    "\n",
    "for i,letra in enumerate(cadena):\n",
    "    if letra == 'n':\n",
    "        print(f'Forma 3 de lograr este resultado: ',i)\n",
    "\n"
   ]
  },
  {
   "cell_type": "code",
   "execution_count": 114,
   "metadata": {},
   "outputs": [
    {
     "name": "stdout",
     "output_type": "stream",
     "text": [
      "clave 1\n",
      "clave 2\n",
      "clave 3\n",
      "valor 1\n",
      "valor 2\n",
      "valor 3\n",
      "('clave 1', 'valor 1')\n",
      "('clave 2', 'valor 2')\n",
      "('clave 3', 'valor 3')\n"
     ]
    }
   ],
   "source": [
    "#11) Crear un diccionario e imprimir sus claves utilizando un iterador\n",
    "\n",
    "dict = {\"clave 1\": \"valor 1\", \"clave 2\": \"valor 2\", \"clave 3\": \"valor 3\"}\n",
    "\n",
    "for i in dict.keys(): # imprime solo las claves del diccionario\n",
    "    print(i)\n",
    "\n",
    "for i in dict.values(): #imprime solo los valores del diccionario\n",
    "    print(i)\n",
    "\n",
    "for i in dict.items(): # imprime la clave y el valor del diccionario\n",
    "    print(i)"
   ]
  },
  {
   "cell_type": "code",
   "execution_count": null,
   "metadata": {},
   "outputs": [],
   "source": [
    "#12) Convertir en una lista la variable \"cadena\" del punto 10 y luego recorrerla con un iterador \n",
    "\n",
    "cadena_lista = list(cadena)\n",
    "\n",
    "for i in cadena_lista:\n",
    "    print(i)\n",
    "   "
   ]
  },
  {
   "cell_type": "code",
   "execution_count": null,
   "metadata": {},
   "outputs": [],
   "source": [
    "#13) Crear dos listas y unirlas en una tupla utilizando la función zip"
   ]
  },
  {
   "cell_type": "code",
   "execution_count": null,
   "metadata": {},
   "outputs": [],
   "source": [
    "#14) A partir de la siguiente lista de números, crear una nueva sólo si el número es divisible por 7\n",
    "\n",
    "lis = [18,21,29,32,35,42,56,60,63,71,84,90,91,100]"
   ]
  },
  {
   "cell_type": "code",
   "execution_count": null,
   "metadata": {},
   "outputs": [],
   "source": [
    "#15) A partir de la lista de a continuación, contar la cantidad total de elementos que contiene,\n",
    "# teniendo en cuenta que un elemento de la lista podría ser otra lista:\n",
    "\n",
    "lis = [[1,2,3,4],'rojo','verde',[True,False,False],['uno','dos','tres']]"
   ]
  },
  {
   "cell_type": "code",
   "execution_count": null,
   "metadata": {},
   "outputs": [],
   "source": [
    "#16) Tomar la lista del punto anterior y convertir cada elemento en una lista si no lo es"
   ]
  }
 ],
 "metadata": {
  "kernelspec": {
   "display_name": "Python 3",
   "language": "python",
   "name": "python3"
  },
  "language_info": {
   "codemirror_mode": {
    "name": "ipython",
    "version": 3
   },
   "file_extension": ".py",
   "mimetype": "text/x-python",
   "name": "python",
   "nbconvert_exporter": "python",
   "pygments_lexer": "ipython3",
   "version": "3.10.6 (main, Nov 14 2022, 16:10:14) [GCC 11.3.0]"
  },
  "orig_nbformat": 4,
  "vscode": {
   "interpreter": {
    "hash": "916dbcbb3f70747c44a77c7bcd40155683ae19c65e1c03b4aa3499c5328201f1"
   }
  }
 },
 "nbformat": 4,
 "nbformat_minor": 2
}
