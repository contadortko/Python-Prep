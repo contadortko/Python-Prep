{
 "cells": [
  {
   "attachments": {},
   "cell_type": "markdown",
   "metadata": {},
   "source": [
    "\n",
    "Funciones  "
   ]
  },
  {
   "cell_type": "code",
   "execution_count": 32,
   "metadata": {},
   "outputs": [
    {
     "name": "stdout",
     "output_type": "stream",
     "text": [
      "False\n"
     ]
    }
   ],
   "source": [
    "#1. Crear una función que reciba un número como parámetro y devuelva si True si es primo y False si no lo es\n",
    "\n",
    "def es_primo(numero):\n",
    "    es_primo = True\n",
    "    if numero <= 1:\n",
    "        es_primo = False\n",
    "    for i in range(2,numero):\n",
    "        if numero % i == 0:\n",
    "            es_primo = False\n",
    "            break\n",
    "    if es_primo:\n",
    "        return True\n",
    "    else:\n",
    "        return False\n",
    "\n",
    "print(es_primo(18))\n",
    "\n",
    "\n"
   ]
  },
  {
   "cell_type": "code",
   "execution_count": 31,
   "metadata": {},
   "outputs": [
    {
     "name": "stdout",
     "output_type": "stream",
     "text": [
      "Nueva lista de numeros primos [2, 3, 5, 7, 11, 13, 17, 19]\n"
     ]
    }
   ],
   "source": [
    "#2. Utilizando la función del punto 1, realizar otra función que reciba de parámetro una lista de números\n",
    "#  y devuelva sólo aquellos que son primos en otra lista\n",
    "\n",
    "def primos_lista(lista):\n",
    "\n",
    "    primos_lista = []\n",
    "    for elemento in lista:\n",
    "        if es_primo(int(elemento)):\n",
    "            primos_lista.append(elemento)\n",
    "        \n",
    "    return primos_lista\n",
    "\n",
    "print(f'Nueva lista de numeros primos',primos_lista(list(range(0,20))))\n",
    "\n",
    "    \n"
   ]
  },
  {
   "cell_type": "code",
   "execution_count": 47,
   "metadata": {},
   "outputs": [
    {
     "name": "stdout",
     "output_type": "stream",
     "text": [
      "(3, 6)\n"
     ]
    }
   ],
   "source": [
    "#3. Crear una función que al recibir una lista de números, devuelva el que más se repite y cuántas veces lo hace.\n",
    "# Si hay más de un \"más repetido\", que devuelva cualquier\n",
    "\n",
    "def numero_mas_repetido(lista):\n",
    "#Creación del diccionario de repeticiones, almacena cada numero de la lista como clave y sus repeticiones como valor.\n",
    "    numero_de_repeticiones = {}\n",
    "    #se recorre la lista para cada numero, se verifica si ya se ha contado anteriormente.\n",
    "    for numero in lista:\n",
    "        #contar repeticiones\n",
    "        if numero in numero_de_repeticiones:\n",
    "            #si el numero se ha contado anteriormente se aumenta en 1 el valor asociado con esa clave\n",
    "            numero_de_repeticiones[numero] += 1\n",
    "        else:\n",
    "            #si el numero no se ha contado anteriormente se agrega una nueva clave con el valor 1\n",
    "            numero_de_repeticiones[numero] = 1\n",
    "#calcular el numero más repetido\n",
    "    #con el método max se busca el mayor numero de repeticiones y se la pasa al argumento key=xxx.get\n",
    "    #para que el factor de comparación sea el valor de cada clave en el diccionario.\n",
    "    numero_mas_repetido = max(numero_de_repeticiones, key=numero_de_repeticiones.get)\n",
    "    return numero_mas_repetido, numero_de_repeticiones[numero_mas_repetido]\n",
    "\n",
    "Lista = [1,1,1,1,1,2,2,2,2,3,3,3,3,3,4,3,5,4,5,4,5,4,6]\n",
    "print(numero_mas_repetido(Lista))\n",
    "\n",
    "\n"
   ]
  },
  {
   "cell_type": "code",
   "execution_count": 54,
   "metadata": {},
   "outputs": [
    {
     "name": "stdout",
     "output_type": "stream",
     "text": [
      "(3, 6)\n",
      "(6, 2)\n"
     ]
    }
   ],
   "source": [
    "#4. A la función del punto 3, agregar un parámetro más, que permita elegir si se requiere el menor o el mayor de los mas repetidos.\n",
    "\n",
    "def numero_mas_repetido(lista, maximo = True):\n",
    "#Creación del diccionario de repeticiones, almacena cada numero de la lista como clave y sus repeticiones como valor.\n",
    "    numero_de_repeticiones = {}\n",
    "    #se recorre la lista para cada numero, se verifica si ya se ha contado anteriormente.\n",
    "    for numero in lista:\n",
    "        #contar repeticiones\n",
    "        if numero in numero_de_repeticiones:\n",
    "            #si el numero se ha contado anteriormente se aumenta en 1 el valor asociado con esa clave\n",
    "            numero_de_repeticiones[numero] += 1\n",
    "        else:\n",
    "            #si el numero no se ha contado anteriormente se agrega una nueva clave con el valor 1\n",
    "            numero_de_repeticiones[numero] = 1\n",
    "#calcular el numero más repetido\n",
    "    #con el método max se busca el mayor numero de repeticiones y se la pasa al argumento key=xxx.get\n",
    "    #para que el factor de comparación sea el valor de cada clave en el diccionario.\n",
    "    if maximo:\n",
    "        numero_mas_repetido = max(numero_de_repeticiones, key=numero_de_repeticiones.get)\n",
    "    else:\n",
    "        numero_mas_repetido = min(numero_de_repeticiones, key=numero_de_repeticiones.get)\n",
    "    return numero_mas_repetido, numero_de_repeticiones[numero_mas_repetido]\n",
    "\n",
    "Lista = [1,1,1,1,1,2,2,2,2,3,3,3,3,3,4,3,5,4,5,4,5,4,6,6]\n",
    "print(numero_mas_repetido(Lista, maximo = True))\n",
    "print(numero_mas_repetido(Lista, maximo = False))"
   ]
  },
  {
   "cell_type": "code",
   "execution_count": null,
   "metadata": {},
   "outputs": [],
   "source": [
    "#5. Crear una función que convierta entre grados Celsius, Farenheit y Kelvin\n",
    "#Debe recibir 3 parámetros: el valor, la medida de orígen y la medida de destino\n",
    "#creamos la función de conversión de temperatura y la medida de origen y destino\n",
    "def conversion(temperatura, origen, destino):\n",
    "    if origen == \"C\" and destino == \"F\":\n",
    "        return (temperatura * 9/5) + 32\n",
    "    elif origen == \"C\" and destino == \"K\":\n",
    "        return temperatura + 273.15\n",
    "    elif origen == \"K\" and destino == \"C\":\n",
    "        return temperatura - 273.15\n",
    "    elif origen == \"K\" and destino == \"F\":\n",
    "        return 9/5 *(temperatura - 273.15)+ 32\n",
    "    elif origen == \"F\" and destino == \"C\":\n",
    "        return 5/9 * (temperatura - 32)\n",
    "    elif origen == \"F\" and destino == \"K\":\n",
    "        return 5/9*(temperatura - 32) + 273.15\n",
    "\n",
    "#creamos una función para el menu\n",
    "def menu():\n",
    "    print(\"Convertido de temperatura \\n\"\n",
    "            \"1. Celsius -> Farenheit \\n\"\n",
    "            \"2. Celsius -> Kelvin \\n\"\n",
    "            \"3. Kelvin -> Celsius \\n\"\n",
    "            \"4. Kelvin -> Farenheit \\n\"\n",
    "            \"5. Farenheit -> Celsius \\n\"\n",
    "            \"6. Farenheit -> Kelvin \\n\"\n",
    "            \"7. Cerrar el programa\\n\")\n",
    "\n",
    "#creamos un ciclo while para correr el programa\n",
    "while True:\n",
    "    menu()\n",
    "    eleccion = int(input(\"Seleccione una entrada: \"))\n",
    "    temperatura = int(input(\"Introduce el valor de la temperatura: \"))\n",
    "    if eleccion == 1:\n",
    "        origen = \"C\"\n",
    "        destino = \"F\"\n",
    "        print(f'Convertir {temperatura} grado Celsius a Farenheit da como resultado {conversion(temperatura, origen, destino)} grados')\n",
    "    elif eleccion == 2:\n",
    "        origen = \"C\"\n",
    "        destino = \"K\"\n",
    "        print(f'Convertir {temperatura} grado Celsius a Kelvin da como resultado {conversion(temperatura, origen, destino)} grados')\n",
    "    elif eleccion == 3:\n",
    "        origen = \"K\"\n",
    "        destino = \"C\"\n",
    "        print(f'Convertir {temperatura} grado Kelvin a Celsius da como resultado {conversion(temperatura, origen, destino)} grados')\n",
    "    elif eleccion == 4:\n",
    "        origen = \"K\"\n",
    "        destino = \"F\"\n",
    "        print(f'Convertir {temperatura} grado Kelvin a Farenheit da como resultado {conversion(temperatura, origen, destino)} grados')\n",
    "    elif eleccion == 5:\n",
    "        origen = \"F\"\n",
    "        destino = \"C\"\n",
    "        print(f'Convertir {temperatura} grado Farenheit a Celsius da como resultado {conversion(temperatura, origen, destino)} grados')\n",
    "    elif eleccion == 6:\n",
    "        origen = \"F\"\n",
    "        destino = \"K\"\n",
    "        print(f'Convertir {temperatura} grado Farenheit a Kelvin da como resultado {conversion(temperatura, origen, destino)} grados')\n",
    "    else:\n",
    "        eleccion == 7\n",
    "        print(\"Gracias por utilizar nuestro programa\")\n",
    "        break\n",
    "        \n",
    "\n",
    "#otras opciones para usar la función de conversion\n",
    "#temperatura = int(input(\"Introduce el valor: \"))\n",
    "#origen = str.upper(input(\"Introduce una entrada: \"))\n",
    "#destino = str.upper(input(\"Introduce una entrada: \"))\n",
    "#print(conversion(temperatura, origen, destino))\n",
    "\n",
    "#print(conversion(int(100), str(\"F\"), str(\"K\")))\n",
    "\n",
    "\n",
    "\n",
    "    "
   ]
  },
  {
   "cell_type": "code",
   "execution_count": 11,
   "metadata": {},
   "outputs": [
    {
     "name": "stdout",
     "output_type": "stream",
     "text": [
      "1 grado de K a K corresponde a:  None\n",
      "1 grado de K a C corresponde a:  -272.15\n",
      "1 grado de K a F corresponde a:  -457.86999999999995\n",
      "1 grado de C a K corresponde a:  274.15\n",
      "1 grado de C a C corresponde a:  None\n",
      "1 grado de C a F corresponde a:  33.8\n",
      "1 grado de F a K corresponde a:  255.92777777777775\n",
      "1 grado de F a C corresponde a:  -17.22222222222222\n",
      "1 grado de F a F corresponde a:  None\n"
     ]
    }
   ],
   "source": [
    "#6. Iterando una lista con los tres valores posibles de temperatura que recibe la función del punto 5,\n",
    "# hacer un print para cada combinación de los mismos:\n",
    "\n",
    "def conversion(temperatura, origen, destino):\n",
    "    if origen == \"C\" and destino == \"F\":\n",
    "        return (temperatura * 9/5) + 32\n",
    "    elif origen == \"C\" and destino == \"K\":\n",
    "        return temperatura + 273.15\n",
    "    elif origen == \"K\" and destino == \"C\":\n",
    "        return temperatura - 273.15\n",
    "    elif origen == \"K\" and destino == \"F\":\n",
    "        return 9/5 *(temperatura - 273.15)+ 32\n",
    "    elif origen == \"F\" and destino == \"C\":\n",
    "        return 5/9 * (temperatura - 32)\n",
    "    elif origen == \"F\" and destino == \"K\":\n",
    "        return 5/9*(temperatura - 32) + 273.15\n",
    "temperaturas = [\"K\", \"C\", \"F\"]\n",
    "for i in range(0,3):\n",
    "    for j in range(0,len(temperaturas)):\n",
    "        print(f'1 grado de {temperaturas[i]} a {temperaturas[j]} corresponde a: ',conversion(1,temperaturas[i], temperaturas[j]))"
   ]
  },
  {
   "cell_type": "code",
   "execution_count": 48,
   "metadata": {},
   "outputs": [
    {
     "name": "stdout",
     "output_type": "stream",
     "text": [
      "el factorial de 0 es 1\n"
     ]
    }
   ],
   "source": [
    "#7. Armar una función que devuelva el factorial de un número.\n",
    "# Tener en cuenta que el usuario puede equivocarse y enviar de parámetro un número no entero o negativo\n",
    "def factorial(numero):\n",
    "    \n",
    "    if numero == 0 or factorial ==1:\n",
    "        return 1      \n",
    "    else:\n",
    "        return numero * factorial(numero-1)\n",
    "\n",
    "try:\n",
    "    numero = int(input('Ingrese un número entero positivo: '))\n",
    "    if numero < 0:\n",
    "        raise ValueError\n",
    "    print(f'el factorial de {numero} es {factorial(numero)}')\n",
    "except ValueError:\n",
    "    print('El valor ingresado no es un número entero positivo')\n",
    "\n"
   ]
  },
  {
   "cell_type": "code",
   "execution_count": null,
   "metadata": {},
   "outputs": [],
   "source": []
  }
 ],
 "metadata": {
  "kernelspec": {
   "display_name": "Python 3",
   "language": "python",
   "name": "python3"
  },
  "language_info": {
   "codemirror_mode": {
    "name": "ipython",
    "version": 3
   },
   "file_extension": ".py",
   "mimetype": "text/x-python",
   "name": "python",
   "nbconvert_exporter": "python",
   "pygments_lexer": "ipython3",
   "version": "3.10.6 (main, Nov 14 2022, 16:10:14) [GCC 11.3.0]"
  },
  "orig_nbformat": 4,
  "vscode": {
   "interpreter": {
    "hash": "916dbcbb3f70747c44a77c7bcd40155683ae19c65e1c03b4aa3499c5328201f1"
   }
  }
 },
 "nbformat": 4,
 "nbformat_minor": 2
}
